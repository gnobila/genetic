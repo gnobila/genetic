{
 "cells": [
  {
   "cell_type": "code",
   "execution_count": 18,
   "id": "a1f2b263",
   "metadata": {},
   "outputs": [],
   "source": [
    "import numpy as np\n",
    "import tqdm.notebook as tqdm"
   ]
  },
  {
   "cell_type": "code",
   "execution_count": 19,
   "id": "d2115e3f",
   "metadata": {},
   "outputs": [],
   "source": [
    "list_file = []\n",
    "\n",
    "with open('input.txt','r') as input_file:\n",
    "    for nums in input_file:\n",
    "        nums_split = nums.split()\n",
    "        list_file.append(nums_split)"
   ]
  },
  {
   "cell_type": "code",
   "execution_count": 20,
   "id": "e4375cef",
   "metadata": {},
   "outputs": [],
   "source": [
    "task = int(list_file[0][0])\n",
    "category_task = np.array(list_file[1], int)\n",
    "time_for_tusk = np.array(list_file[2], float)\n",
    "num_devs = int(list_file[3][0])\n",
    "coef_devs = np.array(list_file[4::], float)\n",
    "\n",
    "size_population = 2000\n",
    "max_len_individual = 1000\n",
    "size_selection = 700\n",
    "p_mutation_ind= 0.2\n",
    "p_mutation_gen=0.1"
   ]
  },
  {
   "cell_type": "code",
   "execution_count": 21,
   "id": "5e951c52",
   "metadata": {},
   "outputs": [],
   "source": [
    "class GeneticAlgorithm:\n",
    "    \n",
    "    def __init__(\n",
    "        self,\n",
    "        task,\n",
    "        category_task ,\n",
    "        time_for_tusk ,\n",
    "        num_devs,\n",
    "        coef_devs,\n",
    "        size_population,\n",
    "        max_len_individual,\n",
    "        size_selection,\n",
    "        p_mutation_ind,\n",
    "        p_mutation_gen\n",
    "    ):\n",
    "        self.task = task\n",
    "        self.category_task = category_task\n",
    "        self.time_for_tusk = time_for_tusk\n",
    "        self.num_devs = num_devs\n",
    "        self.coef_devs = coef_devs\n",
    "        self.size_population = size_population\n",
    "        self.max_len_individual = max_len_individual\n",
    "        self.size_selection = size_selection\n",
    "        self.p_mutation_ind = p_mutation_ind\n",
    "        self.p_mutation_gen = p_mutation_gen\n",
    "\n",
    "        self.rng = np.random.default_rng()\n",
    "        self.population = self.rng.integers(low=0, high=10, size=(size_population, max_len_individual))\n",
    "\n",
    "    def fitness(self) :\n",
    "        temp = coef_devs[self.population, self.category_task-1] * self.time_for_tusk\n",
    "\n",
    "        list_of_time = []\n",
    "\n",
    "        for dev in range(len(coef_devs)):\n",
    "            list_of_time.append(temp.sum(axis=1, where = self.population == dev))\n",
    "\n",
    "        array_of_time = np.array(list_of_time)\n",
    "        \n",
    "        max_time_dev = array_of_time.max(axis = 0) \n",
    "        return 100/max_time_dev\n",
    "    \n",
    "    def selection(self):\n",
    "        self.selected_population = self.population[np.argsort(self.fitness())[-self.size_selection:]][::-1]\n",
    "    \n",
    "    def crossover(self):\n",
    "        n_children = self.size_population - self.size_selection\n",
    "        \n",
    "        idx1  = self.rng.integers(low=0, high=self.size_selection,     size=n_children)\n",
    "        shift = self.rng.integers(low=1, high=self.size_selection - 1, size=n_children)\n",
    "        idx2  = (idx1 + shift) % self.size_selection\n",
    "        \n",
    "        self.slice_point = self.rng.integers(low=1, high=self.max_len_individual - 1, size=n_children)\n",
    "        self.new_generation = np.where(\n",
    "            np.arange(self.max_len_individual)[np.newaxis] < self.slice_point[:, np.newaxis],\n",
    "            self.selected_population[idx1],\n",
    "            self.selected_population[idx2]\n",
    "        )\n",
    "        \n",
    "    def mutation(self):\n",
    "        self.mask = self.rng.random(size=self.new_generation.shape[0]) <= self.p_mutation_ind\n",
    "        self.mutating_children = self.new_generation[self.mask]\n",
    "        self.mutating_children[...] = np.where(\n",
    "            self.rng.random(size=self.mutating_children.shape) <= self.p_mutation_gen,\n",
    "            self.rng.integers(low=0, high=4, size=self.mutating_children.shape),\n",
    "            self.mutating_children\n",
    "        )\n",
    "\n",
    "            \n",
    "    def step(self):\n",
    "        ga.selection()\n",
    "        ga.crossover()\n",
    "        ga.mutation()\n",
    "        self.population = np.concatenate([self.selected_population, self.new_generation, self.mutating_children], axis=0)"
   ]
  },
  {
   "cell_type": "code",
   "execution_count": 22,
   "id": "1a02949b",
   "metadata": {},
   "outputs": [],
   "source": [
    "ga = GeneticAlgorithm(task,category_task ,time_for_tusk ,num_devs,coef_devs,size_population,max_len_individual,size_selection,p_mutation_ind,p_mutation_gen)"
   ]
  },
  {
   "cell_type": "code",
   "execution_count": 23,
   "id": "26da1911",
   "metadata": {},
   "outputs": [
    {
     "data": {
      "application/vnd.jupyter.widget-view+json": {
       "model_id": "7d7eba2b11d848e6934ceb57e8ca8811",
       "version_major": 2,
       "version_minor": 0
      },
      "text/plain": [
       "  0%|          | 0/100 [00:00<?, ?it/s]"
      ]
     },
     "metadata": {},
     "output_type": "display_data"
    }
   ],
   "source": [
    "pbar = tqdm.trange(100)\n",
    "for i in pbar:\n",
    "    ga.step()\n",
    "    pbar.set_description(f'{ga.fitness().max()}')"
   ]
  },
  {
   "cell_type": "code",
   "execution_count": 27,
   "id": "572ff3de",
   "metadata": {},
   "outputs": [
    {
     "data": {
      "text/plain": [
       "0"
      ]
     },
     "execution_count": 27,
     "metadata": {},
     "output_type": "execute_result"
    }
   ],
   "source": [
    "ga.fitness().argmax()"
   ]
  },
  {
   "cell_type": "code",
   "execution_count": 28,
   "id": "d7940eeb",
   "metadata": {
    "scrolled": true
   },
   "outputs": [
    {
     "name": "stdout",
     "output_type": "stream",
     "text": [
      "3 5 6 5 3 8 7 2 9 7 7 4 10 5 8 9 9 3 9 9 4 4 10 10 5 2 4 8 5 5 6 8 9 2 10 10 7 7 10 2 2 9 9 10 3 10 1 8 2 2 10 6 6 9 6 6 2 8 6 9 3 9 4 5 3 9 5 1 7 5 10 10 6 9 8 10 7 3 6 10 4 8 4 10 2 8 9 6 3 2 10 7 7 4 1 6 6 2 6 1 8 3 2 2 6 8 1 2 1 3 6 8 5 5 8 1 3 2 2 5 8 7 3 9 8 9 2 9 7 9 8 8 4 5 7 6 4 1 7 5 1 6 7 6 7 1 4 6 3 5 3 6 8 1 1 3 7 2 7 6 6 10 1 4 9 8 1 8 10 7 8 3 8 10 4 9 3 2 3 7 7 8 4 10 3 4 6 7 1 2 7 1 6 2 10 3 1 8 3 5 9 4 1 4 7 9 7 2 9 9 5 1 10 10 9 9 6 6 7 3 3 8 10 4 8 3 2 4 6 10 10 8 8 4 6 7 1 1 6 3 3 6 3 10 10 9 8 2 6 3 8 5 7 7 10 10 9 7 6 6 3 7 9 2 4 3 2 9 2 7 6 2 1 9 8 7 7 3 10 1 8 10 1 3 4 9 8 1 8 9 8 1 10 1 10 7 2 5 9 2 6 2 7 5 10 10 4 4 2 1 10 5 9 4 2 3 5 7 10 2 2 10 6 3 3 9 8 7 7 9 10 9 1 6 4 6 1 3 10 3 4 1 4 3 2 5 7 4 2 1 7 9 1 1 10 9 9 1 2 7 8 7 9 3 2 9 6 2 10 6 8 1 7 10 7 5 5 6 1 6 4 4 3 10 7 4 2 4 6 3 1 8 5 9 1 9 6 6 9 5 2 1 3 10 2 1 5 9 5 4 5 10 4 9 6 8 1 6 9 2 7 7 3 4 3 9 10 3 4 6 9 10 10 5 5 6 2 6 2 10 5 1 6 6 4 5 7 6 4 9 3 5 5 7 5 8 7 2 1 5 7 8 8 5 2 9 5 2 8 10 4 1 1 8 4 3 4 6 8 8 5 4 8 7 9 5 9 1 8 5 6 3 4 2 1 7 3 2 9 1 2 9 6 5 6 1 5 10 8 10 5 3 4 1 7 5 8 8 3 2 10 8 2 4 4 8 6 9 3 4 6 5 7 2 2 2 4 5 8 1 6 6 9 1 4 7 9 5 2 5 2 2 6 8 4 9 6 4 1 1 5 10 1 2 10 2 2 10 7 8 8 5 10 5 9 8 10 4 7 2 8 2 5 3 4 7 8 10 4 3 4 10 6 4 10 7 1 4 4 8 3 6 5 4 8 3 6 8 4 3 6 2 5 8 2 9 2 6 10 3 2 8 3 1 2 5 1 7 5 7 10 2 9 10 9 7 3 4 8 9 9 9 4 2 10 10 9 4 3 9 2 9 5 10 2 5 2 7 5 2 9 7 7 8 4 8 4 2 4 5 2 1 5 4 8 6 6 3 4 10 8 10 3 10 4 6 2 6 5 9 1 1 1 8 9 3 5 9 3 8 2 8 7 8 6 8 7 8 8 1 6 6 3 2 2 7 10 9 3 1 7 4 4 5 2 8 2 1 8 5 4 2 3 6 6 10 3 8 6 10 10 8 2 3 3 4 8 10 2 6 10 5 6 4 2 2 5 10 10 4 4 3 8 7 2 2 6 8 10 3 6 7 5 5 7 6 1 6 10 6 9 5 7 1 3 7 1 6 10 3 6 6 6 9 10 9 9 5 2 1 4 9 2 10 9 1 6 9 3 6 1 10 5 8 10 2 3 6 10 9 5 9 1 3 5 1 6 7 7 3 4 5 1 2 1 9 8 6 1 7 6 4 8 4 6 7 5 8 1 8 1 3 6 10 7 2 3 4 4 5 6 8 7 10 9 2 7 3 8 10 4 7 9 5 6 6 6 10 2 8 5 4 4 6 7 4 1 1 8 3 10 5 3 7 10 9 7 4 1 6 9 2 5 8 3 2 9 4 9 7 2 10 6 1 1 6 8 2 8 8 1 6 5 4 1 4 4 10 10 3 2 4 9 3 2 6 3 7 4 4 2 5 7 4 10 1 4 5 1 9 4 1 7 5 5 2 8 8 6 2 6 6 4 10 9 4 1 9 3 3 5 9 6 5 8 2 10 2 1 7 5 9 5 7 10 1 8 5 1 5 1 4 10 8 3 1 8 1 5 5\n"
     ]
    }
   ],
   "source": [
    "print(*ga.population[0]+1)"
   ]
  },
  {
   "cell_type": "code",
   "execution_count": 29,
   "id": "1a5a3ce8",
   "metadata": {},
   "outputs": [
    {
     "data": {
      "text/plain": [
       "0.16299254309115366"
      ]
     },
     "execution_count": 29,
     "metadata": {},
     "output_type": "execute_result"
    }
   ],
   "source": [
    "ga.fitness().max()"
   ]
  }
 ],
 "metadata": {
  "kernelspec": {
   "display_name": "Python 3 (ipykernel)",
   "language": "python",
   "name": "python3"
  },
  "language_info": {
   "codemirror_mode": {
    "name": "ipython",
    "version": 3
   },
   "file_extension": ".py",
   "mimetype": "text/x-python",
   "name": "python",
   "nbconvert_exporter": "python",
   "pygments_lexer": "ipython3",
   "version": "3.10.9"
  }
 },
 "nbformat": 4,
 "nbformat_minor": 5
}
